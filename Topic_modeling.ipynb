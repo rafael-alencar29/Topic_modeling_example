{
  "nbformat": 4,
  "nbformat_minor": 0,
  "metadata": {
    "colab": {
      "name": "Topic modeling.ipynb",
      "provenance": []
    },
    "kernelspec": {
      "display_name": "Python 3",
      "name": "python3"
    },
    "language_info": {
      "name": "python"
    }
  },
  "cells": [
    {
      "cell_type": "code",
      "metadata": {
        "colab": {
          "base_uri": "https://localhost:8080/"
        },
        "id": "aNP4mthpLPCJ",
        "outputId": "dcbeda98-dd15-4165-afaf-787267daa7e7"
      },
      "source": [
        "# Cada string representa um documento.\n",
        "# A junção de todos os documentos representa um corpus\n",
        "\n",
        "doc1 = \"Sugar is bad to consume. My sister likes to have sugar, but not my father.\"\n",
        "doc2 = \"My father spends a lot of time driving my sister around to dance practice.\"\n",
        "doc3 = \"Doctors suggest that driving may cause increased stress and blood pressure.\"\n",
        "doc4 = \"Sometimes I feel pressure to perform well at school, but my father never seems to drive my sister to do better.\"\n",
        "doc5 = \"Health experts say that Sugar is not good for your lifestyle.\"\n",
        "\n",
        "corpus = [doc1, doc2, doc3, doc4, doc5]\n",
        "corpus"
      ],
      "execution_count": 1,
      "outputs": [
        {
          "output_type": "execute_result",
          "data": {
            "text/plain": [
              "['Sugar is bad to consume. My sister likes to have sugar, but not my father.',\n",
              " 'My father spends a lot of time driving my sister around to dance practice.',\n",
              " 'Doctors suggest that driving may cause increased stress and blood pressure.',\n",
              " 'Sometimes I feel pressure to perform well at school, but my father never seems to drive my sister to do better.',\n",
              " 'Health experts say that Sugar is not good for your lifestyle.']"
            ]
          },
          "metadata": {},
          "execution_count": 1
        }
      ]
    },
    {
      "cell_type": "markdown",
      "metadata": {
        "id": "H8JX7BTlP2lu"
      },
      "source": [
        "Preprocessamento"
      ]
    },
    {
      "cell_type": "code",
      "metadata": {
        "colab": {
          "base_uri": "https://localhost:8080/"
        },
        "id": "NGt_QWfpL5rE",
        "outputId": "478d672d-9ef2-4dfd-d22e-2fb7e74b111d"
      },
      "source": [
        "import nltk\n",
        "nltk.download('stopwords')\n",
        "nltk.download('wordnet')\n",
        "from nltk.corpus import stopwords \n",
        "from nltk.stem.wordnet import WordNetLemmatizer\n",
        "import string"
      ],
      "execution_count": 2,
      "outputs": [
        {
          "output_type": "stream",
          "name": "stdout",
          "text": [
            "[nltk_data] Downloading package stopwords to /root/nltk_data...\n",
            "[nltk_data]   Unzipping corpora/stopwords.zip.\n",
            "[nltk_data] Downloading package wordnet to /root/nltk_data...\n",
            "[nltk_data]   Unzipping corpora/wordnet.zip.\n"
          ]
        }
      ]
    },
    {
      "cell_type": "code",
      "metadata": {
        "id": "fm8FRObZM8XI"
      },
      "source": [
        "# removendo pontuações, stopwords e normalizando o corpus\n",
        "stop = set(stopwords.words('english'))\n",
        "exclude = set(string.punctuation) \n",
        "lemma = WordNetLemmatizer()"
      ],
      "execution_count": 3,
      "outputs": []
    },
    {
      "cell_type": "code",
      "metadata": {
        "id": "KDOFVL7BMEbn"
      },
      "source": [
        "def clean(doc):\n",
        "    stop_free = \" \".join([i for i in doc.lower().split() if i not in stop])\n",
        "    punc_free = ''.join(ch for ch in stop_free if ch not in exclude)\n",
        "    normalized = \" \".join(lemma.lemmatize(word) for word in punc_free.split())\n",
        "    return normalized\n",
        "\n",
        "corpus_clean = [clean(doc).split() for doc in corpus]  "
      ],
      "execution_count": 4,
      "outputs": []
    },
    {
      "cell_type": "code",
      "metadata": {
        "colab": {
          "base_uri": "https://localhost:8080/"
        },
        "id": "NTJkyqRyNFjs",
        "outputId": "02dc16fb-b5f4-4ef1-c36c-d727336cf140"
      },
      "source": [
        "corpus_clean"
      ],
      "execution_count": 5,
      "outputs": [
        {
          "output_type": "execute_result",
          "data": {
            "text/plain": [
              "[['sugar', 'bad', 'consume', 'sister', 'like', 'sugar', 'father'],\n",
              " ['father',\n",
              "  'spends',\n",
              "  'lot',\n",
              "  'time',\n",
              "  'driving',\n",
              "  'sister',\n",
              "  'around',\n",
              "  'dance',\n",
              "  'practice'],\n",
              " ['doctor',\n",
              "  'suggest',\n",
              "  'driving',\n",
              "  'may',\n",
              "  'cause',\n",
              "  'increased',\n",
              "  'stress',\n",
              "  'blood',\n",
              "  'pressure'],\n",
              " ['sometimes',\n",
              "  'feel',\n",
              "  'pressure',\n",
              "  'perform',\n",
              "  'well',\n",
              "  'school',\n",
              "  'father',\n",
              "  'never',\n",
              "  'seems',\n",
              "  'drive',\n",
              "  'sister',\n",
              "  'better'],\n",
              " ['health', 'expert', 'say', 'sugar', 'good', 'lifestyle']]"
            ]
          },
          "metadata": {},
          "execution_count": 5
        }
      ]
    },
    {
      "cell_type": "code",
      "metadata": {
        "id": "KwYAzuJnNioM"
      },
      "source": [
        "# Importando Gensim, bibloteca para mineração de textos\n",
        "import gensim\n",
        "from gensim import corpora"
      ],
      "execution_count": 6,
      "outputs": []
    },
    {
      "cell_type": "code",
      "metadata": {
        "id": "7WMRnXK8Nmyb"
      },
      "source": [
        "dictionary = corpora.Dictionary(corpus_clean)"
      ],
      "execution_count": 7,
      "outputs": []
    },
    {
      "cell_type": "code",
      "metadata": {
        "id": "tjzI2y18Ntxe"
      },
      "source": [
        "# convertendo um corpus para uma representação matricial\n",
        "doc_term_matrix = [dictionary.doc2bow(doc) for doc in corpus_clean]"
      ],
      "execution_count": 8,
      "outputs": []
    },
    {
      "cell_type": "code",
      "metadata": {
        "id": "GXX19A0_N5F6"
      },
      "source": [
        "# Criando um objeto para o modelo LDA usando a biblioteca gensim\n",
        "Lda = gensim.models.ldamodel.LdaModel"
      ],
      "execution_count": 9,
      "outputs": []
    },
    {
      "cell_type": "code",
      "metadata": {
        "id": "eQRO0QM8N9fB"
      },
      "source": [
        "ldamodel = Lda(doc_term_matrix, num_topics=3, id2word = dictionary, passes=50)"
      ],
      "execution_count": 10,
      "outputs": []
    },
    {
      "cell_type": "code",
      "metadata": {
        "colab": {
          "base_uri": "https://localhost:8080/"
        },
        "id": "D-xPXBBIOErM",
        "outputId": "c2bef50b-bfc8-4f3a-cc92-10d959b01f58"
      },
      "source": [
        "ldamodel.print_topics(num_topics=3, num_words=3)"
      ],
      "execution_count": 11,
      "outputs": [
        {
          "output_type": "execute_result",
          "data": {
            "text/plain": [
              "[(0, '0.075*\"say\" + 0.075*\"lifestyle\" + 0.075*\"good\"'),\n",
              " (1, '0.071*\"pressure\" + 0.041*\"feel\" + 0.041*\"school\"'),\n",
              " (2, '0.085*\"sister\" + 0.085*\"father\" + 0.084*\"sugar\"')]"
            ]
          },
          "metadata": {},
          "execution_count": 11
        }
      ]
    },
    {
      "cell_type": "markdown",
      "metadata": {
        "id": "zEjYBRLcOgRU"
      },
      "source": [
        "Cada linha representa um tópico com palavras e seus respectivos pesos. Tópico 3 poderia ser designado como família."
      ]
    },
    {
      "cell_type": "markdown",
      "metadata": {
        "id": "ssL_-Ua0SGEU"
      },
      "source": [
        "fonte: https://www.analyticsvidhya.com/blog/2016/08/beginners-guide-to-topic-modeling-in-python/?"
      ]
    }
  ]
}